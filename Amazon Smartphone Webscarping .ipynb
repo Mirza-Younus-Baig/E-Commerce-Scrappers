{
 "cells": [
  {
   "cell_type": "code",
   "execution_count": 1,
   "metadata": {},
   "outputs": [
    {
     "name": "stdout",
     "output_type": "stream",
     "text": [
      "Enter you aukaat: 70000\n"
     ]
    }
   ],
   "source": [
    "import requests as rq\n",
    "import bs4\n",
    "\n",
    "price = input(\"Enter you aukaat: \")"
   ]
  },
  {
   "cell_type": "code",
   "execution_count": 2,
   "metadata": {},
   "outputs": [
    {
     "name": "stdout",
     "output_type": "stream",
     "text": [
      "{'i18n-prefs': 'INR', 'session-id': '258-7656091-9020640', 'session-id-time': '2082787201l'}\n"
     ]
    }
   ],
   "source": [
    "s = rq.Session() # To start a session and create a cookie that will assign a session id onto the client's machine\n",
    "\n",
    "header = {'User-Agent': 'Mozilla/5.0 (Windows NT 10.0; Win64; x64) AppleWebKit/537.36 (KHTML, like Gecko) Chrome/73.0.3683.103 Safari/537.36 OPR/60.0.3255.170'}\n",
    "r = s.get('https://www.amazon.in/s?k=mobiles+under+' + price + '+rupees&ref=nb_sb_noss', headers = header)\n",
    "\n",
    "cookies = dict(r.cookies)\n",
    "print(cookies)"
   ]
  },
  {
   "cell_type": "code",
   "execution_count": 3,
   "metadata": {},
   "outputs": [
    {
     "data": {
      "text/plain": [
       "200"
      ]
     },
     "execution_count": 3,
     "metadata": {},
     "output_type": "execute_result"
    }
   ],
   "source": [
    "r.status_code"
   ]
  },
  {
   "cell_type": "code",
   "execution_count": 4,
   "metadata": {},
   "outputs": [],
   "source": [
    "soup = bs4.BeautifulSoup(r.text, 'html.parser')"
   ]
  },
  {
   "cell_type": "code",
   "execution_count": 5,
   "metadata": {},
   "outputs": [
    {
     "data": {
      "text/plain": [
       "<title>Amazon.in: mobiles under 70000 rupees</title>"
      ]
     },
     "execution_count": 5,
     "metadata": {},
     "output_type": "execute_result"
    }
   ],
   "source": [
    "soup.title"
   ]
  },
  {
   "cell_type": "code",
   "execution_count": 6,
   "metadata": {},
   "outputs": [
    {
     "name": "stdout",
     "output_type": "stream",
     "text": [
      "Redmi 6 Pro (Black, 4GB RAM, 64GB Storage)\n",
      "Redmi 6A (Black, 2GBRAM, 16GB Storage)\n",
      "Samsung Galaxy M20 (Ocean Blue, 3+32GB)\n",
      "Redmi 6 Pro (Black, 3GB RAM, 32GB Storage)\n",
      "OnePlus 6T (Mirror Black, 8GB RAM, 128GB Storage)\n",
      "Samsung Galaxy M40 (Midnight Blue, 6GB RAM, 128GB Storage)\n",
      "Samsung On7 Pro (Gold, 2GB RAM, 16GB Storage)\n",
      "Samsung Galaxy M20 (Charcoal Black, 3+32GB)\n",
      "Jump Start Ultra-Thin & Soft Touch Matte TPU Protect Back Cover Case for Xiaomi Redmi Note 7 (Paper Black Case)\n",
      "Tecno Camon iAce (13MP Rear + 8MP Front Camera)2 GB RAM + 16GB Memory (Black)\n",
      "Samsung Galaxy M30 (Gradation Blue, 4+64 GB)\n",
      "Moto E5 Plus (Black, 3GB RAM, 32GB Storage)\n",
      "OnePlus 6T (Midnight Black, 8GB RAM, 128GB Storage)\n",
      "Samsung Galaxy M40 (Seawater Blue, 6GB RAM, 128GB Storage)\n",
      "Honor 9N (Blue, 4GB RAM, 64GB Storage)\n",
      "Samsung Galaxy M30 (Gradation Black, 4+64 GB)\n",
      "Samsung Galaxy M20 (Ocean Blue, 4+64GB)\n",
      "Samsung Galaxy M20 (Charcoal Black, 4+64GB)\n",
      "AmazonBrand - Solimo Designer Pattern Printed Hard Back Case Mobile Cover for Xiaomi Redmi 6 Pro (D1155)\n",
      "Verward Redmi Note 6 Pro Transparent Back Cover\n"
     ]
    }
   ],
   "source": [
    "product_names = soup.findAll('span', {'class': 'a-size-medium a-color-base a-text-normal'})\n",
    "for product_name in product_names:\n",
    "    print(product_name.text)"
   ]
  },
  {
   "cell_type": "code",
   "execution_count": null,
   "metadata": {},
   "outputs": [],
   "source": []
  }
 ],
 "metadata": {
  "kernelspec": {
   "display_name": "Python 3",
   "language": "python",
   "name": "python3"
  },
  "language_info": {
   "codemirror_mode": {
    "name": "ipython",
    "version": 3
   },
   "file_extension": ".py",
   "mimetype": "text/x-python",
   "name": "python",
   "nbconvert_exporter": "python",
   "pygments_lexer": "ipython3",
   "version": "3.7.3"
  }
 },
 "nbformat": 4,
 "nbformat_minor": 2
}
