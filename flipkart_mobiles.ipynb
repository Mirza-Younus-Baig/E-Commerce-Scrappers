{
 "cells": [
  {
   "cell_type": "code",
   "execution_count": 1,
   "metadata": {},
   "outputs": [],
   "source": [
    "import bs4"
   ]
  },
  {
   "cell_type": "code",
   "execution_count": 2,
   "metadata": {},
   "outputs": [],
   "source": [
    "# webpages that are static can only be scrapped, in case of dynamic ajax will place data in run time"
   ]
  },
  {
   "cell_type": "code",
   "execution_count": 3,
   "metadata": {},
   "outputs": [],
   "source": [
    "import requests as rq"
   ]
  },
  {
   "cell_type": "code",
   "execution_count": 4,
   "metadata": {},
   "outputs": [
    {
     "name": "stdout",
     "output_type": "stream",
     "text": [
      "Enter your aukaat: 60000\n"
     ]
    }
   ],
   "source": [
    "user_price_query = input('Enter your aukaat: ')"
   ]
  },
  {
   "cell_type": "code",
   "execution_count": 5,
   "metadata": {},
   "outputs": [],
   "source": [
    "r = rq.get(\"https://www.flipkart.com/search?q=phones%20under%20\" + user_price_query)"
   ]
  },
  {
   "cell_type": "code",
   "execution_count": 6,
   "metadata": {},
   "outputs": [
    {
     "data": {
      "text/plain": [
       "200"
      ]
     },
     "execution_count": 6,
     "metadata": {},
     "output_type": "execute_result"
    }
   ],
   "source": [
    "r.status_code"
   ]
  },
  {
   "cell_type": "code",
   "execution_count": 7,
   "metadata": {},
   "outputs": [],
   "source": [
    "soup = bs4.BeautifulSoup(r.text, \"html.parser\")"
   ]
  },
  {
   "cell_type": "code",
   "execution_count": 8,
   "metadata": {},
   "outputs": [
    {
     "data": {
      "text/plain": [
       "<title>Phones Under 60000 - Buy Products Online at Best Price in India - All Categories | Flipkart.com</title>"
      ]
     },
     "execution_count": 8,
     "metadata": {},
     "output_type": "execute_result"
    }
   ],
   "source": [
    "soup.title"
   ]
  },
  {
   "cell_type": "code",
   "execution_count": 9,
   "metadata": {},
   "outputs": [
    {
     "data": {
      "text/plain": [
       "'Phones Under 60000 - Buy Products Online at Best Price in India - All Categories | Flipkart.com'"
      ]
     },
     "execution_count": 9,
     "metadata": {},
     "output_type": "execute_result"
    }
   ],
   "source": [
    "soup.title.text"
   ]
  },
  {
   "cell_type": "code",
   "execution_count": 10,
   "metadata": {},
   "outputs": [
    {
     "data": {
      "text/plain": [
       "str"
      ]
     },
     "execution_count": 10,
     "metadata": {},
     "output_type": "execute_result"
    }
   ],
   "source": [
    "type(soup.title.text)"
   ]
  },
  {
   "cell_type": "code",
   "execution_count": 11,
   "metadata": {},
   "outputs": [],
   "source": [
    "product_names = soup.findAll('div', {'class': '_3wU53n'})"
   ]
  },
  {
   "cell_type": "code",
   "execution_count": 12,
   "metadata": {},
   "outputs": [
    {
     "data": {
      "text/plain": [
       "[<div class=\"_3wU53n\">Apple iPhone X (Space Gray, 64 GB)</div>,\n",
       " <div class=\"_3wU53n\">Apple iPhone X (Silver, 64 GB)</div>,\n",
       " <div class=\"_3wU53n\">Apple iPhone XR (Black, 64 GB)</div>,\n",
       " <div class=\"_3wU53n\">Apple iPhone XR (White, 64 GB)</div>,\n",
       " <div class=\"_3wU53n\">Apple iPhone XR ((PRODUCT)RED, 64 GB)</div>,\n",
       " <div class=\"_3wU53n\">Apple iPhone XR (Blue, 64 GB)</div>,\n",
       " <div class=\"_3wU53n\">Apple iPhone 8 (Gold, 64 GB)</div>,\n",
       " <div class=\"_3wU53n\">Apple iPhone 8 (Space Grey, 64 GB)</div>,\n",
       " <div class=\"_3wU53n\">Apple iPhone XR (Coral, 64 GB)</div>,\n",
       " <div class=\"_3wU53n\">Samsung Galaxy S9 Plus (Polaris Blue, 64 GB)</div>,\n",
       " <div class=\"_3wU53n\">Samsung Galaxy S9 Plus (Burgundy Red, 64 GB)</div>,\n",
       " <div class=\"_3wU53n\">OPPO Find X (Bordeaux Red, 256 GB)</div>,\n",
       " <div class=\"_3wU53n\">OPPO Find X (Glacier Blue, 256 GB)</div>,\n",
       " <div class=\"_3wU53n\">I Kall K74</div>,\n",
       " <div class=\"_3wU53n\">Apple iPhone 7 Plus (Gold, 128 GB)</div>,\n",
       " <div class=\"_3wU53n\">Apple iPhone 8 (PRODUCT)RED (Red, 64 GB)</div>,\n",
       " <div class=\"_3wU53n\">Google Pixel (Very Silver, 32 GB)</div>,\n",
       " <div class=\"_3wU53n\">Samsung Galaxy S9 (Coral Blue, 64 GB)</div>,\n",
       " <div class=\"_3wU53n\">Apple iPhone 8 Plus (Silver, 64 GB)</div>,\n",
       " <div class=\"_3wU53n\">I Kall K4 (Gold, 16 GB)</div>,\n",
       " <div class=\"_3wU53n\">Samsung Galaxy S9 (Lilac Purple, 64 GB)</div>,\n",
       " <div class=\"_3wU53n\">Samsung Galaxy S10 (Prism Black, 128 GB)</div>,\n",
       " <div class=\"_3wU53n\">Samsung Galaxy S10e (Prism Black, 128 GB)</div>,\n",
       " <div class=\"_3wU53n\">I Kall K2180</div>]"
      ]
     },
     "execution_count": 12,
     "metadata": {},
     "output_type": "execute_result"
    }
   ],
   "source": [
    "product_names"
   ]
  },
  {
   "cell_type": "code",
   "execution_count": 13,
   "metadata": {},
   "outputs": [
    {
     "name": "stdout",
     "output_type": "stream",
     "text": [
      "Apple iPhone X (Space Gray, 64 GB)\n",
      "Apple iPhone X (Silver, 64 GB)\n",
      "Apple iPhone XR (Black, 64 GB)\n",
      "Apple iPhone XR (White, 64 GB)\n",
      "Apple iPhone XR ((PRODUCT)RED, 64 GB)\n",
      "Apple iPhone XR (Blue, 64 GB)\n",
      "Apple iPhone 8 (Gold, 64 GB)\n",
      "Apple iPhone 8 (Space Grey, 64 GB)\n",
      "Apple iPhone XR (Coral, 64 GB)\n",
      "Samsung Galaxy S9 Plus (Polaris Blue, 64 GB)\n",
      "Samsung Galaxy S9 Plus (Burgundy Red, 64 GB)\n",
      "OPPO Find X (Bordeaux Red, 256 GB)\n",
      "OPPO Find X (Glacier Blue, 256 GB)\n",
      "I Kall K74\n",
      "Apple iPhone 7 Plus (Gold, 128 GB)\n",
      "Apple iPhone 8 (PRODUCT)RED (Red, 64 GB)\n",
      "Google Pixel (Very Silver, 32 GB)\n",
      "Samsung Galaxy S9 (Coral Blue, 64 GB)\n",
      "Apple iPhone 8 Plus (Silver, 64 GB)\n",
      "I Kall K4 (Gold, 16 GB)\n",
      "Samsung Galaxy S9 (Lilac Purple, 64 GB)\n",
      "Samsung Galaxy S10 (Prism Black, 128 GB)\n",
      "Samsung Galaxy S10e (Prism Black, 128 GB)\n",
      "I Kall K2180\n"
     ]
    }
   ],
   "source": [
    "for product_name in product_names:\n",
    "    print(product_name.text)"
   ]
  },
  {
   "cell_type": "code",
   "execution_count": null,
   "metadata": {},
   "outputs": [],
   "source": []
  }
 ],
 "metadata": {
  "kernelspec": {
   "display_name": "Python 3",
   "language": "python",
   "name": "python3"
  },
  "language_info": {
   "codemirror_mode": {
    "name": "ipython",
    "version": 3
   },
   "file_extension": ".py",
   "mimetype": "text/x-python",
   "name": "python",
   "nbconvert_exporter": "python",
   "pygments_lexer": "ipython3",
   "version": "3.7.4"
  }
 },
 "nbformat": 4,
 "nbformat_minor": 2
}
